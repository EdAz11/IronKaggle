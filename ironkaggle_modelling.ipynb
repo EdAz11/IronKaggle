{
 "cells": [
  {
   "cell_type": "code",
   "execution_count": 132,
   "metadata": {},
   "outputs": [],
   "source": [
    "import pandas as pd\n",
    "import numpy as np\n",
    "import pickle\n",
    "\n",
    "from sklearn.model_selection import train_test_split\n",
    "from sklearn.linear_model import LinearRegression\n",
    "from sklearn.linear_model import Ridge\n",
    "\n",
    "from sklearn.tree import DecisionTreeRegressor\n",
    "from sklearn.tree import export_text\n",
    "from sklearn.tree import export_graphviz\n",
    "import graphviz\n",
    "\n",
    "from sklearn.preprocessing import StandardScaler"
   ]
  },
  {
   "cell_type": "code",
   "execution_count": 108,
   "metadata": {},
   "outputs": [],
   "source": [
    "sales_merged = pd.read_csv(\"dataset/sales_merged.csv\")"
   ]
  },
  {
   "cell_type": "code",
   "execution_count": 109,
   "metadata": {},
   "outputs": [],
   "source": [
    "features = sales_merged[[\"Store_ID\", \"Day_of_week\", \"Nb_customers_on_day\", \"Open\", \"Promotion\", \"School_holiday\", \"State_holiday_a\", \"State_holiday_b\", \"State_holiday_c\"]]\n",
    "label = sales_merged[\"Sales\"]\n"
   ]
  },
  {
   "cell_type": "code",
   "execution_count": 94,
   "metadata": {},
   "outputs": [
    {
     "data": {
      "text/html": [
       "<div>\n",
       "<style scoped>\n",
       "    .dataframe tbody tr th:only-of-type {\n",
       "        vertical-align: middle;\n",
       "    }\n",
       "\n",
       "    .dataframe tbody tr th {\n",
       "        vertical-align: top;\n",
       "    }\n",
       "\n",
       "    .dataframe thead th {\n",
       "        text-align: right;\n",
       "    }\n",
       "</style>\n",
       "<table border=\"1\" class=\"dataframe\">\n",
       "  <thead>\n",
       "    <tr style=\"text-align: right;\">\n",
       "      <th></th>\n",
       "      <th>Store_ID</th>\n",
       "      <th>Day_of_week</th>\n",
       "      <th>Nb_customers_on_day</th>\n",
       "      <th>Open</th>\n",
       "      <th>Promotion</th>\n",
       "      <th>School_holiday</th>\n",
       "      <th>State_holiday_a</th>\n",
       "      <th>State_holiday_b</th>\n",
       "      <th>State_holiday_c</th>\n",
       "    </tr>\n",
       "  </thead>\n",
       "  <tbody>\n",
       "    <tr>\n",
       "      <th>0</th>\n",
       "      <td>625</td>\n",
       "      <td>3</td>\n",
       "      <td>641</td>\n",
       "      <td>1</td>\n",
       "      <td>1</td>\n",
       "      <td>0</td>\n",
       "      <td>0</td>\n",
       "      <td>0</td>\n",
       "      <td>0</td>\n",
       "    </tr>\n",
       "    <tr>\n",
       "      <th>1</th>\n",
       "      <td>293</td>\n",
       "      <td>2</td>\n",
       "      <td>877</td>\n",
       "      <td>1</td>\n",
       "      <td>1</td>\n",
       "      <td>1</td>\n",
       "      <td>0</td>\n",
       "      <td>0</td>\n",
       "      <td>0</td>\n",
       "    </tr>\n",
       "    <tr>\n",
       "      <th>2</th>\n",
       "      <td>39</td>\n",
       "      <td>4</td>\n",
       "      <td>561</td>\n",
       "      <td>1</td>\n",
       "      <td>1</td>\n",
       "      <td>0</td>\n",
       "      <td>0</td>\n",
       "      <td>0</td>\n",
       "      <td>0</td>\n",
       "    </tr>\n",
       "    <tr>\n",
       "      <th>3</th>\n",
       "      <td>676</td>\n",
       "      <td>4</td>\n",
       "      <td>1584</td>\n",
       "      <td>1</td>\n",
       "      <td>1</td>\n",
       "      <td>0</td>\n",
       "      <td>0</td>\n",
       "      <td>0</td>\n",
       "      <td>0</td>\n",
       "    </tr>\n",
       "    <tr>\n",
       "      <th>4</th>\n",
       "      <td>709</td>\n",
       "      <td>3</td>\n",
       "      <td>1477</td>\n",
       "      <td>1</td>\n",
       "      <td>1</td>\n",
       "      <td>0</td>\n",
       "      <td>0</td>\n",
       "      <td>0</td>\n",
       "      <td>0</td>\n",
       "    </tr>\n",
       "    <tr>\n",
       "      <th>...</th>\n",
       "      <td>...</td>\n",
       "      <td>...</td>\n",
       "      <td>...</td>\n",
       "      <td>...</td>\n",
       "      <td>...</td>\n",
       "      <td>...</td>\n",
       "      <td>...</td>\n",
       "      <td>...</td>\n",
       "      <td>...</td>\n",
       "    </tr>\n",
       "    <tr>\n",
       "      <th>640835</th>\n",
       "      <td>674</td>\n",
       "      <td>6</td>\n",
       "      <td>611</td>\n",
       "      <td>1</td>\n",
       "      <td>0</td>\n",
       "      <td>0</td>\n",
       "      <td>0</td>\n",
       "      <td>0</td>\n",
       "      <td>0</td>\n",
       "    </tr>\n",
       "    <tr>\n",
       "      <th>640836</th>\n",
       "      <td>1014</td>\n",
       "      <td>4</td>\n",
       "      <td>1267</td>\n",
       "      <td>1</td>\n",
       "      <td>1</td>\n",
       "      <td>0</td>\n",
       "      <td>0</td>\n",
       "      <td>0</td>\n",
       "      <td>0</td>\n",
       "    </tr>\n",
       "    <tr>\n",
       "      <th>640837</th>\n",
       "      <td>135</td>\n",
       "      <td>6</td>\n",
       "      <td>595</td>\n",
       "      <td>1</td>\n",
       "      <td>0</td>\n",
       "      <td>0</td>\n",
       "      <td>0</td>\n",
       "      <td>0</td>\n",
       "      <td>0</td>\n",
       "    </tr>\n",
       "    <tr>\n",
       "      <th>640838</th>\n",
       "      <td>810</td>\n",
       "      <td>1</td>\n",
       "      <td>599</td>\n",
       "      <td>1</td>\n",
       "      <td>1</td>\n",
       "      <td>1</td>\n",
       "      <td>0</td>\n",
       "      <td>0</td>\n",
       "      <td>0</td>\n",
       "    </tr>\n",
       "    <tr>\n",
       "      <th>640839</th>\n",
       "      <td>592</td>\n",
       "      <td>1</td>\n",
       "      <td>798</td>\n",
       "      <td>1</td>\n",
       "      <td>1</td>\n",
       "      <td>0</td>\n",
       "      <td>0</td>\n",
       "      <td>0</td>\n",
       "      <td>0</td>\n",
       "    </tr>\n",
       "  </tbody>\n",
       "</table>\n",
       "<p>640840 rows × 9 columns</p>\n",
       "</div>"
      ],
      "text/plain": [
       "        Store_ID  Day_of_week  Nb_customers_on_day  Open  Promotion  \\\n",
       "0            625            3                  641     1          1   \n",
       "1            293            2                  877     1          1   \n",
       "2             39            4                  561     1          1   \n",
       "3            676            4                 1584     1          1   \n",
       "4            709            3                 1477     1          1   \n",
       "...          ...          ...                  ...   ...        ...   \n",
       "640835       674            6                  611     1          0   \n",
       "640836      1014            4                 1267     1          1   \n",
       "640837       135            6                  595     1          0   \n",
       "640838       810            1                  599     1          1   \n",
       "640839       592            1                  798     1          1   \n",
       "\n",
       "        School_holiday  State_holiday_a  State_holiday_b  State_holiday_c  \n",
       "0                    0                0                0                0  \n",
       "1                    1                0                0                0  \n",
       "2                    0                0                0                0  \n",
       "3                    0                0                0                0  \n",
       "4                    0                0                0                0  \n",
       "...                ...              ...              ...              ...  \n",
       "640835               0                0                0                0  \n",
       "640836               0                0                0                0  \n",
       "640837               0                0                0                0  \n",
       "640838               1                0                0                0  \n",
       "640839               0                0                0                0  \n",
       "\n",
       "[640840 rows x 9 columns]"
      ]
     },
     "execution_count": 94,
     "metadata": {},
     "output_type": "execute_result"
    }
   ],
   "source": [
    "features"
   ]
  },
  {
   "cell_type": "code",
   "execution_count": 95,
   "metadata": {},
   "outputs": [
    {
     "data": {
      "text/plain": [
       "0          7293\n",
       "1          7060\n",
       "2          4565\n",
       "3          6380\n",
       "4         11647\n",
       "          ...  \n",
       "640835     4702\n",
       "640836    12545\n",
       "640837     5823\n",
       "640838     7986\n",
       "640839     6565\n",
       "Name: Sales, Length: 640840, dtype: int64"
      ]
     },
     "execution_count": 95,
     "metadata": {},
     "output_type": "execute_result"
    }
   ],
   "source": [
    "label"
   ]
  },
  {
   "cell_type": "code",
   "execution_count": 96,
   "metadata": {},
   "outputs": [],
   "source": [
    "X_train, X_test, y_train, y_test = train_test_split(features, label, test_size=0.25)"
   ]
  },
  {
   "cell_type": "code",
   "execution_count": 121,
   "metadata": {},
   "outputs": [],
   "source": [
    "scale = StandardScaler()\n",
    "scale.fit(X_train)\n",
    "X_train_scaled = scale.transform(X_train)\n",
    "X_test_scaled = scale.transform(X_test)"
   ]
  },
  {
   "cell_type": "markdown",
   "metadata": {},
   "source": [
    "# Lin Reg\n"
   ]
  },
  {
   "cell_type": "code",
   "execution_count": 122,
   "metadata": {},
   "outputs": [
    {
     "name": "stdout",
     "output_type": "stream",
     "text": [
      "Unstandard:  0.853310197098317\n",
      "Standard:  0.853310197098317\n"
     ]
    }
   ],
   "source": [
    "linear_r = LinearRegression()\n",
    "# unstandard\n",
    "linear_r.fit(X_train, y_train)\n",
    "print(\"Unstandard: \", linear_r.score(X_test, y_test))\n",
    "\n",
    "#stardard\n",
    "linear_r.fit(X_train_scaled, y_train)\n",
    "print(\"Standard: \", linear_r.score(X_test_scaled, y_test))"
   ]
  },
  {
   "cell_type": "markdown",
   "metadata": {},
   "source": [
    "# Ridge"
   ]
  },
  {
   "cell_type": "code",
   "execution_count": 123,
   "metadata": {},
   "outputs": [
    {
     "name": "stdout",
     "output_type": "stream",
     "text": [
      "Unstandard:  0.8533101966615646\n",
      "Standard:  0.8533101945832917\n"
     ]
    }
   ],
   "source": [
    "ridge_r = Ridge()\n",
    "\n",
    "#unstandard\n",
    "ridge_r.fit(X_train, y_train)\n",
    "print(\"Unstandard: \", ridge_r.score(X_test, y_test))\n",
    "\n",
    "#standard\n",
    "ridge_r.fit(X_train_scaled, y_train)\n",
    "print(\"Standard: \",ridge_r.score(X_test_scaled, y_test))"
   ]
  },
  {
   "cell_type": "markdown",
   "metadata": {},
   "source": [
    "# Decision Tree"
   ]
  },
  {
   "cell_type": "code",
   "execution_count": 130,
   "metadata": {},
   "outputs": [
    {
     "name": "stdout",
     "output_type": "stream",
     "text": [
      "0.9457126250130121\n",
      "0.9459398040644347\n"
     ]
    }
   ],
   "source": [
    "#create the model\n",
    "tree = DecisionTreeRegressor()\n",
    "\n",
    "#train the model unstandard\n",
    "tree.fit(X_train, y_train)\n",
    "print(tree.score(X_test, y_test))\n",
    "\n",
    "#train model standard\n",
    "tree.fit(X_train_scaled, y_train)\n",
    "print(tree.score(X_test_scaled, y_test))"
   ]
  },
  {
   "cell_type": "code",
   "execution_count": null,
   "metadata": {},
   "outputs": [],
   "source": [
    "\n",
    "export_graphviz(tree, out_file='tree.dot', feature_names=features.columns, impurity=False, filled=True)\n",
    "\n",
    "with open('tree.dot') as file:\n",
    "    dot_graph = file.read()\n",
    "\n",
    "graphviz.Source(dot_graph)"
   ]
  },
  {
   "cell_type": "code",
   "execution_count": 134,
   "metadata": {},
   "outputs": [
    {
     "name": "stderr",
     "output_type": "stream",
     "text": [
      "C:\\Users\\edaz1\\AppData\\Local\\Temp\\ipykernel_9976\\1434973455.py:5: DeprecationWarning: `np.bool` is a deprecated alias for the builtin `bool`. To silence this warning, use `bool` by itself. Doing this will not modify any behavior and is safe. If you specifically wanted the numpy scalar type, use `np.bool_` here.\n",
      "Deprecated in NumPy 1.20; for more details and guidance: https://numpy.org/devdocs/release/1.20.0-notes.html#deprecations\n",
      "  mask = np.zeros_like(corr, dtype=np.bool)\n"
     ]
    },
    {
     "ename": "KeyboardInterrupt",
     "evalue": "",
     "output_type": "error",
     "traceback": [
      "\u001b[1;31m---------------------------------------------------------------------------\u001b[0m",
      "\u001b[1;31mKeyboardInterrupt\u001b[0m                         Traceback (most recent call last)",
      "\u001b[1;32md:\\Documents\\Ironhack\\Week7\\Day5\\ironkaggle_modelling.ipynb Cell 15\u001b[0m in \u001b[0;36m<cell line: 12>\u001b[1;34m()\u001b[0m\n\u001b[0;32m     <a href='vscode-notebook-cell:/d%3A/Documents/Ironhack/Week7/Day5/ironkaggle_modelling.ipynb#X25sZmlsZQ%3D%3D?line=9'>10</a>\u001b[0m cmap \u001b[39m=\u001b[39m sn\u001b[39m.\u001b[39mdiverging_palette(\u001b[39m220\u001b[39m, \u001b[39m10\u001b[39m, as_cmap\u001b[39m=\u001b[39m\u001b[39mTrue\u001b[39;00m)\n\u001b[0;32m     <a href='vscode-notebook-cell:/d%3A/Documents/Ironhack/Week7/Day5/ironkaggle_modelling.ipynb#X25sZmlsZQ%3D%3D?line=10'>11</a>\u001b[0m \u001b[39m# Draw the heatmap with the mask and correct aspect ratio\u001b[39;00m\n\u001b[1;32m---> <a href='vscode-notebook-cell:/d%3A/Documents/Ironhack/Week7/Day5/ironkaggle_modelling.ipynb#X25sZmlsZQ%3D%3D?line=11'>12</a>\u001b[0m sn\u001b[39m.\u001b[39;49mheatmap(corr, mask\u001b[39m=\u001b[39;49mmask,  vmax\u001b[39m=\u001b[39;49m\u001b[39m1\u001b[39;49m,square\u001b[39m=\u001b[39;49m\u001b[39mTrue\u001b[39;49;00m, linewidths\u001b[39m=\u001b[39;49m\u001b[39m.5\u001b[39;49m, cbar_kws\u001b[39m=\u001b[39;49m{\u001b[39m\"\u001b[39;49m\u001b[39mshrink\u001b[39;49m\u001b[39m\"\u001b[39;49m: \u001b[39m.5\u001b[39;49m},annot \u001b[39m=\u001b[39;49m corr)\n\u001b[0;32m     <a href='vscode-notebook-cell:/d%3A/Documents/Ironhack/Week7/Day5/ironkaggle_modelling.ipynb#X25sZmlsZQ%3D%3D?line=12'>13</a>\u001b[0m plt\u001b[39m.\u001b[39mshow()\n",
      "File \u001b[1;32md:\\ProgramFiles\\Anaconda3\\lib\\site-packages\\seaborn\\_decorators.py:46\u001b[0m, in \u001b[0;36m_deprecate_positional_args.<locals>.inner_f\u001b[1;34m(*args, **kwargs)\u001b[0m\n\u001b[0;32m     36\u001b[0m     warnings\u001b[39m.\u001b[39mwarn(\n\u001b[0;32m     37\u001b[0m         \u001b[39m\"\u001b[39m\u001b[39mPass the following variable\u001b[39m\u001b[39m{}\u001b[39;00m\u001b[39m as \u001b[39m\u001b[39m{}\u001b[39;00m\u001b[39mkeyword arg\u001b[39m\u001b[39m{}\u001b[39;00m\u001b[39m: \u001b[39m\u001b[39m{}\u001b[39;00m\u001b[39m. \u001b[39m\u001b[39m\"\u001b[39m\n\u001b[0;32m     38\u001b[0m         \u001b[39m\"\u001b[39m\u001b[39mFrom version 0.12, the only valid positional argument \u001b[39m\u001b[39m\"\u001b[39m\n\u001b[1;32m   (...)\u001b[0m\n\u001b[0;32m     43\u001b[0m         \u001b[39mFutureWarning\u001b[39;00m\n\u001b[0;32m     44\u001b[0m     )\n\u001b[0;32m     45\u001b[0m kwargs\u001b[39m.\u001b[39mupdate({k: arg \u001b[39mfor\u001b[39;00m k, arg \u001b[39min\u001b[39;00m \u001b[39mzip\u001b[39m(sig\u001b[39m.\u001b[39mparameters, args)})\n\u001b[1;32m---> 46\u001b[0m \u001b[39mreturn\u001b[39;00m f(\u001b[39m*\u001b[39m\u001b[39m*\u001b[39mkwargs)\n",
      "File \u001b[1;32md:\\ProgramFiles\\Anaconda3\\lib\\site-packages\\seaborn\\matrix.py:553\u001b[0m, in \u001b[0;36mheatmap\u001b[1;34m(data, vmin, vmax, cmap, center, robust, annot, fmt, annot_kws, linewidths, linecolor, cbar, cbar_kws, cbar_ax, square, xticklabels, yticklabels, mask, ax, **kwargs)\u001b[0m\n\u001b[0;32m    551\u001b[0m \u001b[39mif\u001b[39;00m square:\n\u001b[0;32m    552\u001b[0m     ax\u001b[39m.\u001b[39mset_aspect(\u001b[39m\"\u001b[39m\u001b[39mequal\u001b[39m\u001b[39m\"\u001b[39m)\n\u001b[1;32m--> 553\u001b[0m plotter\u001b[39m.\u001b[39;49mplot(ax, cbar_ax, kwargs)\n\u001b[0;32m    554\u001b[0m \u001b[39mreturn\u001b[39;00m ax\n",
      "File \u001b[1;32md:\\ProgramFiles\\Anaconda3\\lib\\site-packages\\seaborn\\matrix.py:348\u001b[0m, in \u001b[0;36m_HeatMapper.plot\u001b[1;34m(self, ax, cax, kws)\u001b[0m\n\u001b[0;32m    346\u001b[0m \u001b[39m# Annotate the cells with the formatted values\u001b[39;00m\n\u001b[0;32m    347\u001b[0m \u001b[39mif\u001b[39;00m \u001b[39mself\u001b[39m\u001b[39m.\u001b[39mannot:\n\u001b[1;32m--> 348\u001b[0m     \u001b[39mself\u001b[39;49m\u001b[39m.\u001b[39;49m_annotate_heatmap(ax, mesh)\n",
      "File \u001b[1;32md:\\ProgramFiles\\Anaconda3\\lib\\site-packages\\seaborn\\matrix.py:259\u001b[0m, in \u001b[0;36m_HeatMapper._annotate_heatmap\u001b[1;34m(self, ax, mesh)\u001b[0m\n\u001b[0;32m    257\u001b[0m text_kwargs \u001b[39m=\u001b[39m \u001b[39mdict\u001b[39m(color\u001b[39m=\u001b[39mtext_color, ha\u001b[39m=\u001b[39m\u001b[39m\"\u001b[39m\u001b[39mcenter\u001b[39m\u001b[39m\"\u001b[39m, va\u001b[39m=\u001b[39m\u001b[39m\"\u001b[39m\u001b[39mcenter\u001b[39m\u001b[39m\"\u001b[39m)\n\u001b[0;32m    258\u001b[0m text_kwargs\u001b[39m.\u001b[39mupdate(\u001b[39mself\u001b[39m\u001b[39m.\u001b[39mannot_kws)\n\u001b[1;32m--> 259\u001b[0m ax\u001b[39m.\u001b[39mtext(x, y, annotation, \u001b[39m*\u001b[39m\u001b[39m*\u001b[39mtext_kwargs)\n",
      "File \u001b[1;32md:\\ProgramFiles\\Anaconda3\\lib\\site-packages\\matplotlib\\axes\\_axes.py:660\u001b[0m, in \u001b[0;36mAxes.text\u001b[1;34m(self, x, y, s, fontdict, **kwargs)\u001b[0m\n\u001b[0;32m    651\u001b[0m effective_kwargs \u001b[39m=\u001b[39m {\n\u001b[0;32m    652\u001b[0m     \u001b[39m'\u001b[39m\u001b[39mverticalalignment\u001b[39m\u001b[39m'\u001b[39m: \u001b[39m'\u001b[39m\u001b[39mbaseline\u001b[39m\u001b[39m'\u001b[39m,\n\u001b[0;32m    653\u001b[0m     \u001b[39m'\u001b[39m\u001b[39mhorizontalalignment\u001b[39m\u001b[39m'\u001b[39m: \u001b[39m'\u001b[39m\u001b[39mleft\u001b[39m\u001b[39m'\u001b[39m,\n\u001b[1;32m   (...)\u001b[0m\n\u001b[0;32m    657\u001b[0m     \u001b[39m*\u001b[39m\u001b[39m*\u001b[39mkwargs,\n\u001b[0;32m    658\u001b[0m }\n\u001b[0;32m    659\u001b[0m t \u001b[39m=\u001b[39m mtext\u001b[39m.\u001b[39mText(x, y, text\u001b[39m=\u001b[39ms, \u001b[39m*\u001b[39m\u001b[39m*\u001b[39meffective_kwargs)\n\u001b[1;32m--> 660\u001b[0m t\u001b[39m.\u001b[39;49mset_clip_path(\u001b[39mself\u001b[39;49m\u001b[39m.\u001b[39;49mpatch)\n\u001b[0;32m    661\u001b[0m \u001b[39mself\u001b[39m\u001b[39m.\u001b[39m_add_text(t)\n\u001b[0;32m    662\u001b[0m \u001b[39mreturn\u001b[39;00m t\n",
      "File \u001b[1;32md:\\ProgramFiles\\Anaconda3\\lib\\site-packages\\matplotlib\\text.py:531\u001b[0m, in \u001b[0;36mText.set_clip_path\u001b[1;34m(self, path, transform)\u001b[0m\n\u001b[0;32m    529\u001b[0m \u001b[39mdef\u001b[39;00m \u001b[39mset_clip_path\u001b[39m(\u001b[39mself\u001b[39m, path, transform\u001b[39m=\u001b[39m\u001b[39mNone\u001b[39;00m):\n\u001b[0;32m    530\u001b[0m     \u001b[39m# docstring inherited.\u001b[39;00m\n\u001b[1;32m--> 531\u001b[0m     \u001b[39msuper\u001b[39;49m()\u001b[39m.\u001b[39;49mset_clip_path(path, transform)\n\u001b[0;32m    532\u001b[0m     \u001b[39mself\u001b[39m\u001b[39m.\u001b[39m_update_clip_properties()\n",
      "File \u001b[1;32md:\\ProgramFiles\\Anaconda3\\lib\\site-packages\\matplotlib\\artist.py:789\u001b[0m, in \u001b[0;36mArtist.set_clip_path\u001b[1;34m(self, path, transform)\u001b[0m\n\u001b[0;32m    787\u001b[0m \u001b[39mif\u001b[39;00m transform \u001b[39mis\u001b[39;00m \u001b[39mNone\u001b[39;00m:\n\u001b[0;32m    788\u001b[0m     \u001b[39mif\u001b[39;00m \u001b[39misinstance\u001b[39m(path, Rectangle):\n\u001b[1;32m--> 789\u001b[0m         \u001b[39mself\u001b[39m\u001b[39m.\u001b[39mclipbox \u001b[39m=\u001b[39m TransformedBbox(Bbox\u001b[39m.\u001b[39;49munit(),\n\u001b[0;32m    790\u001b[0m                                        path\u001b[39m.\u001b[39mget_transform())\n\u001b[0;32m    791\u001b[0m         \u001b[39mself\u001b[39m\u001b[39m.\u001b[39m_clippath \u001b[39m=\u001b[39m \u001b[39mNone\u001b[39;00m\n\u001b[0;32m    792\u001b[0m         success \u001b[39m=\u001b[39m \u001b[39mTrue\u001b[39;00m\n",
      "File \u001b[1;32md:\\ProgramFiles\\Anaconda3\\lib\\site-packages\\matplotlib\\transforms.py:806\u001b[0m, in \u001b[0;36mBbox.unit\u001b[1;34m()\u001b[0m\n\u001b[0;32m    803\u001b[0m \u001b[39m@staticmethod\u001b[39m\n\u001b[0;32m    804\u001b[0m \u001b[39mdef\u001b[39;00m \u001b[39munit\u001b[39m():\n\u001b[0;32m    805\u001b[0m     \u001b[39m\"\"\"Create a new unit `Bbox` from (0, 0) to (1, 1).\"\"\"\u001b[39;00m\n\u001b[1;32m--> 806\u001b[0m     \u001b[39mreturn\u001b[39;00m Bbox([[\u001b[39m0\u001b[39;49m, \u001b[39m0\u001b[39;49m], [\u001b[39m1\u001b[39;49m, \u001b[39m1\u001b[39;49m]])\n",
      "File \u001b[1;32md:\\ProgramFiles\\Anaconda3\\lib\\site-packages\\matplotlib\\transforms.py:776\u001b[0m, in \u001b[0;36mBbox.__init__\u001b[1;34m(self, points, **kwargs)\u001b[0m\n\u001b[0;32m    774\u001b[0m \u001b[39msuper\u001b[39m()\u001b[39m.\u001b[39m\u001b[39m__init__\u001b[39m(\u001b[39m*\u001b[39m\u001b[39m*\u001b[39mkwargs)\n\u001b[0;32m    775\u001b[0m points \u001b[39m=\u001b[39m np\u001b[39m.\u001b[39masarray(points, \u001b[39mfloat\u001b[39m)\n\u001b[1;32m--> 776\u001b[0m \u001b[39mif\u001b[39;00m points\u001b[39m.\u001b[39;49mshape \u001b[39m!=\u001b[39m (\u001b[39m2\u001b[39m, \u001b[39m2\u001b[39m):\n\u001b[0;32m    777\u001b[0m     \u001b[39mraise\u001b[39;00m \u001b[39mValueError\u001b[39;00m(\u001b[39m'\u001b[39m\u001b[39mBbox points must be of the form \u001b[39m\u001b[39m'\u001b[39m\n\u001b[0;32m    778\u001b[0m                      \u001b[39m'\u001b[39m\u001b[39m\"\u001b[39m\u001b[39m[[x0, y0], [x1, y1]]\u001b[39m\u001b[39m\"\u001b[39m\u001b[39m.\u001b[39m\u001b[39m'\u001b[39m)\n\u001b[0;32m    779\u001b[0m \u001b[39mself\u001b[39m\u001b[39m.\u001b[39m_points \u001b[39m=\u001b[39m points\n",
      "\u001b[1;31mKeyboardInterrupt\u001b[0m: "
     ]
    }
   ],
   "source": [
    "import matplotlib.pyplot as plt\n",
    "import seaborn as sn\n",
    "corr=np.abs(X_train_scaled)\n",
    "#Set up mask for triangle representation\n",
    "mask = np.zeros_like(corr, dtype=np.bool)\n",
    "mask[np.triu_indices_from(mask)] = True\n",
    "# Set up the matplotlib figure\n",
    "f, ax = plt.subplots(figsize=(14, 14))\n",
    "# Generate a custom diverging colormap\n",
    "cmap = sn.diverging_palette(220, 10, as_cmap=True)\n",
    "# Draw the heatmap with the mask and correct aspect ratio\n",
    "sn.heatmap(corr, mask=mask,  vmax=1,square=True, linewidths=.5, cbar_kws={\"shrink\": .5},annot = corr)\n",
    "plt.show()"
   ]
  },
  {
   "cell_type": "code",
   "execution_count": 101,
   "metadata": {},
   "outputs": [],
   "source": [
    "sales = pd.read_csv(\"dataset/sales_s.csv\")"
   ]
  },
  {
   "cell_type": "code",
   "execution_count": 102,
   "metadata": {},
   "outputs": [],
   "source": [
    "features = sales[[\"Store_ID\", \"Day_of_week\", \"Nb_customers_on_day\", \"Open\", \"Promotion\", \"State_holiday\", \"School_holiday\"]]\n",
    "label = sales[\"Sales\"]"
   ]
  },
  {
   "cell_type": "code",
   "execution_count": 103,
   "metadata": {},
   "outputs": [
    {
     "data": {
      "text/plain": [
       "0.853310197098317"
      ]
     },
     "execution_count": 103,
     "metadata": {},
     "output_type": "execute_result"
    }
   ],
   "source": [
    "linear_r = LinearRegression()\n",
    "\n",
    "linear_r.fit(X_train, y_train)\n",
    "linear_r.score(X_test, y_test)"
   ]
  },
  {
   "cell_type": "code",
   "execution_count": 104,
   "metadata": {},
   "outputs": [
    {
     "data": {
      "text/plain": [
       "0.8533101966615646"
      ]
     },
     "execution_count": 104,
     "metadata": {},
     "output_type": "execute_result"
    }
   ],
   "source": [
    "ridge_r = Ridge()\n",
    "\n",
    "ridge_r.fit(X_train, y_train)\n",
    "ridge_r.score(X_test, y_test)"
   ]
  }
 ],
 "metadata": {
  "kernelspec": {
   "display_name": "Python 3.9.12 ('base')",
   "language": "python",
   "name": "python3"
  },
  "language_info": {
   "codemirror_mode": {
    "name": "ipython",
    "version": 3
   },
   "file_extension": ".py",
   "mimetype": "text/x-python",
   "name": "python",
   "nbconvert_exporter": "python",
   "pygments_lexer": "ipython3",
   "version": "3.9.12"
  },
  "orig_nbformat": 4,
  "vscode": {
   "interpreter": {
    "hash": "ca24d5afb66fcbb462fa71d0077b8bccae5a3d821a688de69b673156ae0e4c2b"
   }
  }
 },
 "nbformat": 4,
 "nbformat_minor": 2
}
