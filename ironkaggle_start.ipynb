{
 "cells": [
  {
   "cell_type": "code",
   "execution_count": 1,
   "metadata": {},
   "outputs": [],
   "source": [
    "import pandas as pd\n",
    "import numpy as np\n",
    "import pickle"
   ]
  },
  {
   "cell_type": "code",
   "execution_count": 2,
   "metadata": {},
   "outputs": [
    {
     "data": {
      "text/html": [
       "<div>\n",
       "<style scoped>\n",
       "    .dataframe tbody tr th:only-of-type {\n",
       "        vertical-align: middle;\n",
       "    }\n",
       "\n",
       "    .dataframe tbody tr th {\n",
       "        vertical-align: top;\n",
       "    }\n",
       "\n",
       "    .dataframe thead th {\n",
       "        text-align: right;\n",
       "    }\n",
       "</style>\n",
       "<table border=\"1\" class=\"dataframe\">\n",
       "  <thead>\n",
       "    <tr style=\"text-align: right;\">\n",
       "      <th></th>\n",
       "      <th>True_index</th>\n",
       "      <th>Store_ID</th>\n",
       "      <th>Day_of_week</th>\n",
       "      <th>Date</th>\n",
       "      <th>Nb_customers_on_day</th>\n",
       "      <th>Open</th>\n",
       "      <th>Promotion</th>\n",
       "      <th>State_holiday</th>\n",
       "      <th>School_holiday</th>\n",
       "      <th>Sales</th>\n",
       "    </tr>\n",
       "  </thead>\n",
       "  <tbody>\n",
       "    <tr>\n",
       "      <th>0</th>\n",
       "      <td>0</td>\n",
       "      <td>625</td>\n",
       "      <td>3</td>\n",
       "      <td>2013-11-06</td>\n",
       "      <td>641</td>\n",
       "      <td>1</td>\n",
       "      <td>1</td>\n",
       "      <td>0</td>\n",
       "      <td>0</td>\n",
       "      <td>7293</td>\n",
       "    </tr>\n",
       "    <tr>\n",
       "      <th>1</th>\n",
       "      <td>1</td>\n",
       "      <td>293</td>\n",
       "      <td>2</td>\n",
       "      <td>2013-07-16</td>\n",
       "      <td>877</td>\n",
       "      <td>1</td>\n",
       "      <td>1</td>\n",
       "      <td>0</td>\n",
       "      <td>1</td>\n",
       "      <td>7060</td>\n",
       "    </tr>\n",
       "    <tr>\n",
       "      <th>2</th>\n",
       "      <td>2</td>\n",
       "      <td>39</td>\n",
       "      <td>4</td>\n",
       "      <td>2014-01-23</td>\n",
       "      <td>561</td>\n",
       "      <td>1</td>\n",
       "      <td>1</td>\n",
       "      <td>0</td>\n",
       "      <td>0</td>\n",
       "      <td>4565</td>\n",
       "    </tr>\n",
       "    <tr>\n",
       "      <th>3</th>\n",
       "      <td>3</td>\n",
       "      <td>676</td>\n",
       "      <td>4</td>\n",
       "      <td>2013-09-26</td>\n",
       "      <td>1584</td>\n",
       "      <td>1</td>\n",
       "      <td>1</td>\n",
       "      <td>0</td>\n",
       "      <td>0</td>\n",
       "      <td>6380</td>\n",
       "    </tr>\n",
       "    <tr>\n",
       "      <th>4</th>\n",
       "      <td>4</td>\n",
       "      <td>709</td>\n",
       "      <td>3</td>\n",
       "      <td>2014-01-22</td>\n",
       "      <td>1477</td>\n",
       "      <td>1</td>\n",
       "      <td>1</td>\n",
       "      <td>0</td>\n",
       "      <td>0</td>\n",
       "      <td>11647</td>\n",
       "    </tr>\n",
       "  </tbody>\n",
       "</table>\n",
       "</div>"
      ],
      "text/plain": [
       "   True_index  Store_ID  Day_of_week        Date  Nb_customers_on_day  Open  \\\n",
       "0           0       625            3  2013-11-06                  641     1   \n",
       "1           1       293            2  2013-07-16                  877     1   \n",
       "2           2        39            4  2014-01-23                  561     1   \n",
       "3           3       676            4  2013-09-26                 1584     1   \n",
       "4           4       709            3  2014-01-22                 1477     1   \n",
       "\n",
       "   Promotion State_holiday  School_holiday  Sales  \n",
       "0          1             0               0   7293  \n",
       "1          1             0               1   7060  \n",
       "2          1             0               0   4565  \n",
       "3          1             0               0   6380  \n",
       "4          1             0               0  11647  "
      ]
     },
     "metadata": {},
     "output_type": "display_data"
    },
    {
     "data": {
      "text/plain": [
       "True_index              int64\n",
       "Store_ID                int64\n",
       "Day_of_week             int64\n",
       "Date                   object\n",
       "Nb_customers_on_day     int64\n",
       "Open                    int64\n",
       "Promotion               int64\n",
       "State_holiday          object\n",
       "School_holiday          int64\n",
       "Sales                   int64\n",
       "dtype: object"
      ]
     },
     "execution_count": 2,
     "metadata": {},
     "output_type": "execute_result"
    }
   ],
   "source": [
    "data = pd.read_csv(\"dataset/Sales.csv\")\n",
    "display(data.head())\n",
    "data.dtypes"
   ]
  },
  {
   "cell_type": "code",
   "execution_count": 3,
   "metadata": {},
   "outputs": [
    {
     "name": "stdout",
     "output_type": "stream",
     "text": [
      "Uniques, Holiday:  ['0' 'c' 'a' 'b']\n",
      "Uniques, Day of week:  [3 2 4 6 1 5 7]\n",
      "Uniques, School holiday:  [0 1]\n"
     ]
    }
   ],
   "source": [
    "print(\"Uniques, Holiday: \", data[\"State_holiday\"].unique())\n",
    "print(\"Uniques, Day of week: \", data[\"Day_of_week\"].unique())\n",
    "print(\"Uniques, School holiday: \", data[\"School_holiday\"].unique())"
   ]
  },
  {
   "cell_type": "code",
   "execution_count": 4,
   "metadata": {},
   "outputs": [
    {
     "name": "stdout",
     "output_type": "stream",
     "text": [
      "0       12413\n",
      "6548        2\n",
      "8365        2\n",
      "7693        2\n",
      "7488        2\n",
      "        ...  \n",
      "6851        1\n",
      "9804        1\n",
      "7626        1\n",
      "8929        1\n",
      "3604        1\n",
      "Name: Sales, Length: 421, dtype: int64\n"
     ]
    },
    {
     "data": {
      "text/plain": [
       "12842"
      ]
     },
     "execution_count": 4,
     "metadata": {},
     "output_type": "execute_result"
    }
   ],
   "source": [
    "data.sort_values(by=\"Sales\", ascending=False).head(30)\n",
    "print(data[data[\"State_holiday\"] == 'a'][\"Sales\"].value_counts())\n",
    "data[data[\"State_holiday\"] == 'a'][\"Sales\"].count()"
   ]
  },
  {
   "cell_type": "code",
   "execution_count": 5,
   "metadata": {},
   "outputs": [
    {
     "data": {
      "text/plain": [
       "429"
      ]
     },
     "execution_count": 5,
     "metadata": {},
     "output_type": "execute_result"
    }
   ],
   "source": [
    "12842-12413"
   ]
  },
  {
   "cell_type": "code",
   "execution_count": 6,
   "metadata": {},
   "outputs": [
    {
     "name": "stdout",
     "output_type": "stream",
     "text": [
      "0        4112\n",
      "11343       1\n",
      "4001        1\n",
      "1519        1\n",
      "13069       1\n",
      "         ... \n",
      "3242        1\n",
      "15047       1\n",
      "8364        1\n",
      "18913       1\n",
      "7340        1\n",
      "Name: Sales, Length: 103, dtype: int64\n",
      "4214\n",
      "0    4112\n",
      "1     102\n",
      "Name: Open, dtype: int64\n"
     ]
    }
   ],
   "source": [
    "print(data[data[\"State_holiday\"] == \"b\"][\"Sales\"].value_counts())\n",
    "print(data[data[\"State_holiday\"] == \"b\"][\"Sales\"].count())\n",
    "print(data[data[\"State_holiday\"] == \"b\"][\"Open\"].value_counts())\n"
   ]
  },
  {
   "cell_type": "code",
   "execution_count": 7,
   "metadata": {},
   "outputs": [
    {
     "name": "stdout",
     "output_type": "stream",
     "text": [
      "0        2576\n",
      "7832        1\n",
      "8513        1\n",
      "13319       1\n",
      "10895       1\n",
      "5242        1\n",
      "7475        1\n",
      "15400       1\n",
      "15449       1\n",
      "16961       1\n",
      "10666       1\n",
      "7818        1\n",
      "12074       1\n",
      "10033       1\n",
      "11106       1\n",
      "4146        1\n",
      "8890        1\n",
      "6147        1\n",
      "7138        1\n",
      "4657        1\n",
      "14166       1\n",
      "6575        1\n",
      "3178        1\n",
      "11745       1\n",
      "4601        1\n",
      "5687        1\n",
      "6148        1\n",
      "6127        1\n",
      "9741        1\n",
      "4696        1\n",
      "1800        1\n",
      "26756       1\n",
      "6680        1\n",
      "7612        1\n",
      "8057        1\n",
      "13376       1\n",
      "3277        1\n",
      "13954       1\n",
      "5424        1\n",
      "3888        1\n",
      "24245       1\n",
      "32169       1\n",
      "12961       1\n",
      "4712        1\n",
      "15117       1\n",
      "5111        1\n",
      "17597       1\n",
      "3719        1\n",
      "5784        1\n",
      "Name: Sales, dtype: int64\n",
      "2624\n",
      "0    2576\n",
      "1      48\n",
      "Name: Open, dtype: int64\n"
     ]
    }
   ],
   "source": [
    "print(data[data[\"State_holiday\"] == \"c\"][\"Sales\"].value_counts())\n",
    "print(data[data[\"State_holiday\"] == \"c\"][\"Sales\"].count())\n",
    "print(data[data[\"State_holiday\"] == \"c\"][\"Open\"].value_counts())"
   ]
  },
  {
   "cell_type": "code",
   "execution_count": 8,
   "metadata": {},
   "outputs": [
    {
     "name": "stdout",
     "output_type": "stream",
     "text": [
      "1045    645\n",
      "309     636\n",
      "754     635\n",
      "286     634\n",
      "432     634\n",
      "       ... \n",
      "287     448\n",
      "1004    448\n",
      "1065    445\n",
      "81      438\n",
      "542     436\n",
      "Name: Store_ID, Length: 1115, dtype: int64\n"
     ]
    },
    {
     "data": {
      "text/plain": [
       "640840"
      ]
     },
     "execution_count": 8,
     "metadata": {},
     "output_type": "execute_result"
    }
   ],
   "source": [
    "print(data[\"Store_ID\"].value_counts())\n",
    "len(data)"
   ]
  },
  {
   "cell_type": "code",
   "execution_count": 9,
   "metadata": {},
   "outputs": [],
   "source": [
    "sales = data\n",
    "#sales[\"Store_ID\"] = sales[\"Store_ID\"].apply(str)\n",
    "# state_hol = pd.get_dummies(sales[\"State_holiday\"], prefix=\"State_holiday\")\n",
    "# display(sales)\n",
    "# sales_merged = pd.merge(left= sales, right=state_hol, right_index=True, left_index=True)\n",
    "# sales_merged = sales_merged.drop(\"State_holiday\", axis=1)\n",
    "# sales_merged.drop(columns=\"State_holiday_0\", inplace=True)\n",
    "#sales_merged = sales_merged[sales_merged[\"Open\"]==1]\n"
   ]
  },
  {
   "cell_type": "code",
   "execution_count": 10,
   "metadata": {},
   "outputs": [],
   "source": [
    "from datetime import datetime as dt\n",
    "\n",
    "def convert_date_to_ordinal(date):\n",
    "    return dt.strptime(date, '%Y-%M-%d').toordinal()\n",
    "\n",
    "sales['Date']=sales['Date'].apply(convert_date_to_ordinal)"
   ]
  },
  {
   "cell_type": "code",
   "execution_count": 11,
   "metadata": {},
   "outputs": [],
   "source": [
    "sales[\"State_holiday\"] = sales[\"State_holiday\"].replace(\n",
    "    {'c': 1,\n",
    "    'b': 1,\n",
    "    'a': 1}\n",
    ")"
   ]
  },
  {
   "cell_type": "code",
   "execution_count": 12,
   "metadata": {},
   "outputs": [
    {
     "name": "stdout",
     "output_type": "stream",
     "text": [
      "['0' 1]\n"
     ]
    }
   ],
   "source": [
    "print(sales['State_holiday'].unique())\n",
    "\n",
    "sales['State_holiday'] = sales['State_holiday'].astype(int)"
   ]
  },
  {
   "cell_type": "code",
   "execution_count": 13,
   "metadata": {},
   "outputs": [
    {
     "data": {
      "text/html": [
       "<div>\n",
       "<style scoped>\n",
       "    .dataframe tbody tr th:only-of-type {\n",
       "        vertical-align: middle;\n",
       "    }\n",
       "\n",
       "    .dataframe tbody tr th {\n",
       "        vertical-align: top;\n",
       "    }\n",
       "\n",
       "    .dataframe thead th {\n",
       "        text-align: right;\n",
       "    }\n",
       "</style>\n",
       "<table border=\"1\" class=\"dataframe\">\n",
       "  <thead>\n",
       "    <tr style=\"text-align: right;\">\n",
       "      <th></th>\n",
       "      <th>True_index</th>\n",
       "      <th>Store_ID</th>\n",
       "      <th>Day_of_week</th>\n",
       "      <th>Date</th>\n",
       "      <th>Nb_customers_on_day</th>\n",
       "      <th>Open</th>\n",
       "      <th>Promotion</th>\n",
       "      <th>State_holiday</th>\n",
       "      <th>School_holiday</th>\n",
       "      <th>Sales</th>\n",
       "    </tr>\n",
       "  </thead>\n",
       "  <tbody>\n",
       "    <tr>\n",
       "      <th>0</th>\n",
       "      <td>0</td>\n",
       "      <td>625</td>\n",
       "      <td>3</td>\n",
       "      <td>734874</td>\n",
       "      <td>641</td>\n",
       "      <td>1</td>\n",
       "      <td>1</td>\n",
       "      <td>0</td>\n",
       "      <td>0</td>\n",
       "      <td>7293</td>\n",
       "    </tr>\n",
       "    <tr>\n",
       "      <th>1</th>\n",
       "      <td>1</td>\n",
       "      <td>293</td>\n",
       "      <td>2</td>\n",
       "      <td>734884</td>\n",
       "      <td>877</td>\n",
       "      <td>1</td>\n",
       "      <td>1</td>\n",
       "      <td>0</td>\n",
       "      <td>1</td>\n",
       "      <td>7060</td>\n",
       "    </tr>\n",
       "    <tr>\n",
       "      <th>2</th>\n",
       "      <td>2</td>\n",
       "      <td>39</td>\n",
       "      <td>4</td>\n",
       "      <td>735256</td>\n",
       "      <td>561</td>\n",
       "      <td>1</td>\n",
       "      <td>1</td>\n",
       "      <td>0</td>\n",
       "      <td>0</td>\n",
       "      <td>4565</td>\n",
       "    </tr>\n",
       "    <tr>\n",
       "      <th>3</th>\n",
       "      <td>3</td>\n",
       "      <td>676</td>\n",
       "      <td>4</td>\n",
       "      <td>734894</td>\n",
       "      <td>1584</td>\n",
       "      <td>1</td>\n",
       "      <td>1</td>\n",
       "      <td>0</td>\n",
       "      <td>0</td>\n",
       "      <td>6380</td>\n",
       "    </tr>\n",
       "    <tr>\n",
       "      <th>4</th>\n",
       "      <td>4</td>\n",
       "      <td>709</td>\n",
       "      <td>3</td>\n",
       "      <td>735255</td>\n",
       "      <td>1477</td>\n",
       "      <td>1</td>\n",
       "      <td>1</td>\n",
       "      <td>0</td>\n",
       "      <td>0</td>\n",
       "      <td>11647</td>\n",
       "    </tr>\n",
       "    <tr>\n",
       "      <th>...</th>\n",
       "      <td>...</td>\n",
       "      <td>...</td>\n",
       "      <td>...</td>\n",
       "      <td>...</td>\n",
       "      <td>...</td>\n",
       "      <td>...</td>\n",
       "      <td>...</td>\n",
       "      <td>...</td>\n",
       "      <td>...</td>\n",
       "      <td>...</td>\n",
       "    </tr>\n",
       "    <tr>\n",
       "      <th>640835</th>\n",
       "      <td>712040</td>\n",
       "      <td>674</td>\n",
       "      <td>6</td>\n",
       "      <td>735253</td>\n",
       "      <td>611</td>\n",
       "      <td>1</td>\n",
       "      <td>0</td>\n",
       "      <td>0</td>\n",
       "      <td>0</td>\n",
       "      <td>4702</td>\n",
       "    </tr>\n",
       "    <tr>\n",
       "      <th>640836</th>\n",
       "      <td>712041</td>\n",
       "      <td>1014</td>\n",
       "      <td>4</td>\n",
       "      <td>735613</td>\n",
       "      <td>1267</td>\n",
       "      <td>1</td>\n",
       "      <td>1</td>\n",
       "      <td>0</td>\n",
       "      <td>0</td>\n",
       "      <td>12545</td>\n",
       "    </tr>\n",
       "    <tr>\n",
       "      <th>640837</th>\n",
       "      <td>712042</td>\n",
       "      <td>135</td>\n",
       "      <td>6</td>\n",
       "      <td>735618</td>\n",
       "      <td>595</td>\n",
       "      <td>1</td>\n",
       "      <td>0</td>\n",
       "      <td>0</td>\n",
       "      <td>0</td>\n",
       "      <td>5823</td>\n",
       "    </tr>\n",
       "    <tr>\n",
       "      <th>640838</th>\n",
       "      <td>712043</td>\n",
       "      <td>810</td>\n",
       "      <td>1</td>\n",
       "      <td>735251</td>\n",
       "      <td>599</td>\n",
       "      <td>1</td>\n",
       "      <td>1</td>\n",
       "      <td>0</td>\n",
       "      <td>1</td>\n",
       "      <td>7986</td>\n",
       "    </tr>\n",
       "    <tr>\n",
       "      <th>640839</th>\n",
       "      <td>712044</td>\n",
       "      <td>592</td>\n",
       "      <td>1</td>\n",
       "      <td>734886</td>\n",
       "      <td>798</td>\n",
       "      <td>1</td>\n",
       "      <td>1</td>\n",
       "      <td>0</td>\n",
       "      <td>0</td>\n",
       "      <td>6565</td>\n",
       "    </tr>\n",
       "  </tbody>\n",
       "</table>\n",
       "<p>640840 rows × 10 columns</p>\n",
       "</div>"
      ],
      "text/plain": [
       "        True_index  Store_ID  Day_of_week    Date  Nb_customers_on_day  Open  \\\n",
       "0                0       625            3  734874                  641     1   \n",
       "1                1       293            2  734884                  877     1   \n",
       "2                2        39            4  735256                  561     1   \n",
       "3                3       676            4  734894                 1584     1   \n",
       "4                4       709            3  735255                 1477     1   \n",
       "...            ...       ...          ...     ...                  ...   ...   \n",
       "640835      712040       674            6  735253                  611     1   \n",
       "640836      712041      1014            4  735613                 1267     1   \n",
       "640837      712042       135            6  735618                  595     1   \n",
       "640838      712043       810            1  735251                  599     1   \n",
       "640839      712044       592            1  734886                  798     1   \n",
       "\n",
       "        Promotion  State_holiday  School_holiday  Sales  \n",
       "0               1              0               0   7293  \n",
       "1               1              0               1   7060  \n",
       "2               1              0               0   4565  \n",
       "3               1              0               0   6380  \n",
       "4               1              0               0  11647  \n",
       "...           ...            ...             ...    ...  \n",
       "640835          0              0               0   4702  \n",
       "640836          1              0               0  12545  \n",
       "640837          0              0               0   5823  \n",
       "640838          1              0               1   7986  \n",
       "640839          1              0               0   6565  \n",
       "\n",
       "[640840 rows x 10 columns]"
      ]
     },
     "execution_count": 13,
     "metadata": {},
     "output_type": "execute_result"
    }
   ],
   "source": [
    "sales\n"
   ]
  },
  {
   "cell_type": "code",
   "execution_count": 14,
   "metadata": {},
   "outputs": [
    {
     "name": "stdout",
     "output_type": "stream",
     "text": [
      "<class 'pandas.core.frame.DataFrame'>\n",
      "RangeIndex: 640840 entries, 0 to 640839\n",
      "Data columns (total 10 columns):\n",
      " #   Column               Non-Null Count   Dtype\n",
      "---  ------               --------------   -----\n",
      " 0   True_index           640840 non-null  int64\n",
      " 1   Store_ID             640840 non-null  int64\n",
      " 2   Day_of_week          640840 non-null  int64\n",
      " 3   Date                 640840 non-null  int64\n",
      " 4   Nb_customers_on_day  640840 non-null  int64\n",
      " 5   Open                 640840 non-null  int64\n",
      " 6   Promotion            640840 non-null  int64\n",
      " 7   State_holiday        640840 non-null  int32\n",
      " 8   School_holiday       640840 non-null  int64\n",
      " 9   Sales                640840 non-null  int64\n",
      "dtypes: int32(1), int64(9)\n",
      "memory usage: 46.4 MB\n"
     ]
    }
   ],
   "source": [
    "sales.info()"
   ]
  },
  {
   "cell_type": "code",
   "execution_count": 16,
   "metadata": {},
   "outputs": [],
   "source": [
    "sales.to_csv(\"dataset/sales_s.csv\", index=False)\n",
    "#sales_merged.to_csv(\"dataset/sales_merged.csv\", index=False)"
   ]
  }
 ],
 "metadata": {
  "kernelspec": {
   "display_name": "Python 3.9.12 ('base')",
   "language": "python",
   "name": "python3"
  },
  "language_info": {
   "codemirror_mode": {
    "name": "ipython",
    "version": 3
   },
   "file_extension": ".py",
   "mimetype": "text/x-python",
   "name": "python",
   "nbconvert_exporter": "python",
   "pygments_lexer": "ipython3",
   "version": "3.9.12"
  },
  "orig_nbformat": 4,
  "vscode": {
   "interpreter": {
    "hash": "ca24d5afb66fcbb462fa71d0077b8bccae5a3d821a688de69b673156ae0e4c2b"
   }
  }
 },
 "nbformat": 4,
 "nbformat_minor": 2
}
